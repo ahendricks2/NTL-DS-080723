{
 "cells": [
  {
   "cell_type": "code",
   "execution_count": 1,
   "id": "a8100402",
   "metadata": {},
   "outputs": [],
   "source": [
    "import pandas as pd \n",
    "import numpy as np \n",
    "import scipy \n",
    "from scipy import stats\n",
    "import math \n",
    "from scipy.stats import norm\n",
    "import random"
   ]
  },
  {
   "cell_type": "markdown",
   "id": "1b725adc",
   "metadata": {},
   "source": [
    "I have a normally distributed data with mean 10 and SD 4:\n",
    "\n",
    "How many SD from center is  value 17 ?\n",
    "\n",
    "\n",
    "\n",
    "\n",
    "What % are in  range ±17 ?\n"
   ]
  },
  {
   "cell_type": "code",
   "execution_count": 1,
   "id": "60757da7",
   "metadata": {},
   "outputs": [],
   "source": [
    "# Calculate the Z-score \n",
    "# \n"
   ]
  },
  {
   "cell_type": "code",
   "execution_count": 9,
   "id": "e82f2d9a",
   "metadata": {},
   "outputs": [],
   "source": [
    "## what are type 1 and type 2 errors "
   ]
  },
  {
   "cell_type": "markdown",
   "id": "078e8d03",
   "metadata": {},
   "source": [
    "Define\n",
    "\n",
    "\n",
    "\n",
    "NULL hypothesis :\n",
    "\n",
    "\n",
    "\n",
    "Alternative Hypothesis : "
   ]
  },
  {
   "cell_type": "markdown",
   "id": "f1d1922e",
   "metadata": {},
   "source": [
    "## calculate p value of this \n",
    "\n",
    "\n",
    "\n",
    "test the  null hypothesis H0: μ = 120 \n",
    "alternative hypothesis Hα: μ > 120 \n",
    "and α = 0.05. \n",
    "\n",
    "The sample is \n",
    "\n",
    "n =40, σ = 32 and x̄ = 105"
   ]
  },
  {
   "cell_type": "code",
   "execution_count": null,
   "id": "c19ac641",
   "metadata": {},
   "outputs": [],
   "source": []
  },
  {
   "cell_type": "code",
   "execution_count": 7,
   "id": "3668e8a9",
   "metadata": {},
   "outputs": [],
   "source": [
    "from scipy.stats import t"
   ]
  },
  {
   "cell_type": "code",
   "execution_count": null,
   "id": "df9f4ab0",
   "metadata": {},
   "outputs": [],
   "source": []
  },
  {
   "cell_type": "code",
   "execution_count": null,
   "id": "07dbcfbe",
   "metadata": {},
   "outputs": [],
   "source": []
  },
  {
   "cell_type": "markdown",
   "id": "149154c8",
   "metadata": {},
   "source": [
    "#2 \n",
    " \n",
    "One farmer grows with miracle grow , the other farmer grows without it, \n",
    "the first farmer says his plants grow larger. \n",
    "they collected measurements of all of thier plants. \n",
    "\n",
    "\n",
    "state the alt and Null hypothesis\n",
    "\n",
    "calculate p value. "
   ]
  },
  {
   "cell_type": "code",
   "execution_count": 10,
   "id": "c721fafb",
   "metadata": {},
   "outputs": [],
   "source": [
    "miracle_grow_farmer = random.sample(range(4,12),5)\n",
    "regular_farmer = random.sample(range(2,10),5)"
   ]
  },
  {
   "cell_type": "code",
   "execution_count": 15,
   "id": "3fb78872",
   "metadata": {},
   "outputs": [],
   "source": [
    "from math import factorial"
   ]
  },
  {
   "cell_type": "code",
   "execution_count": null,
   "id": "e2f62d44",
   "metadata": {},
   "outputs": [],
   "source": [
    " "
   ]
  },
  {
   "cell_type": "code",
   "execution_count": null,
   "id": "a50b336d",
   "metadata": {},
   "outputs": [],
   "source": []
  },
  {
   "cell_type": "code",
   "execution_count": 3,
   "id": "0312e059",
   "metadata": {
    "scrolled": true
   },
   "outputs": [
    {
     "ename": "NameError",
     "evalue": "name 'stats' is not defined",
     "output_type": "error",
     "traceback": [
      "\u001b[0;31m---------------------------------------------------------------------------\u001b[0m",
      "\u001b[0;31mNameError\u001b[0m                                 Traceback (most recent call last)",
      "Cell \u001b[0;32mIn[3], line 1\u001b[0m\n\u001b[0;32m----> 1\u001b[0m \u001b[43mstats\u001b[49m\u001b[38;5;241m.\u001b[39mttest_ind()\n",
      "\u001b[0;31mNameError\u001b[0m: name 'stats' is not defined"
     ]
    }
   ],
   "source": [
    "stats.ttest_ind()"
   ]
  },
  {
   "cell_type": "markdown",
   "id": "7307c63b",
   "metadata": {},
   "source": [
    "# bayesian stats \n",
    "\n",
    "##1\n",
    "In a particular pain clinic, 10% of patients are prescribed narcotic pain killers. \n",
    "Overall, five percent of the clinic’s patients are addicted to narcotics \n",
    "(including pain killers and illegal substances). Out of all the people prescribed pain pills,\n",
    "8% are addicts. If a patient is an addict, what is the probability that they will be prescribed pain pills?"
   ]
  },
  {
   "cell_type": "markdown",
   "id": "c6310de6",
   "metadata": {},
   "source": [
    "## 2\n",
    "1% of people have a certain genetic defect.\n",
    "90% of tests for the gene detect the defect (true positives).\n",
    "9.6% of the tests are false positives.\n",
    "If a person gets a positive test result, what are the odds they actually have the genetic defect?"
   ]
  },
  {
   "cell_type": "markdown",
   "id": "8520811c",
   "metadata": {},
   "source": [
    "## 3\n",
    "\n",
    "Two manufacturers supply syringes to emergency relief organizations. Manufacturer A supplies 3000 syringes and 4% are non functional. Manufacturer B supplies 2400 syringes and 7% are found to be non functional. Given that a syringe is non functional, find the probability that it came from manufacturer B"
   ]
  },
  {
   "cell_type": "markdown",
   "id": "e8cacd83",
   "metadata": {},
   "source": [
    "## 4 \n",
    "Suppose P(A),P(-A),P(B|A)\n",
    ", and P(B|A-)\n",
    " are known. Find an expression for P(A|B)\n",
    " in terms of these four probabilities"
   ]
  },
  {
   "cell_type": "markdown",
   "id": "614b4e15",
   "metadata": {},
   "source": [
    "## 5 \n",
    "\n",
    "On a game show, a contestant can select one of four boxes. The red box contains one $100\n",
    "bill and nine $1\n",
    "\n",
    "\n",
    "bills. A green box contains two $100$\n",
    " bills and eight $1\n",
    "\n",
    "bills. A blue box contains three $100$\n",
    " bills and seven $1\n",
    "\n",
    "bills. A yellow box contains five $100$\n",
    " bills and five $1\n",
    "\n",
    "bills. The contestant selects a box at random and selects a bill from the box at random. If a $100$\n",
    "\n",
    "bill is selected, find the probability that it came from the yellow box"
   ]
  },
  {
   "cell_type": "markdown",
   "id": "c2464f5a",
   "metadata": {},
   "source": [
    "## confidence intervals \n",
    "\n",
    "find the lower and upper bounds for the mean number of packages a \n",
    "delivery driver is able to deliver in one month (30 days), \n",
    "he averages 15 packages a day with a standard deviation of 5"
   ]
  },
  {
   "cell_type": "code",
   "execution_count": null,
   "id": "57444ce0",
   "metadata": {},
   "outputs": [],
   "source": []
  }
 ],
 "metadata": {
  "kernelspec": {
   "display_name": "Python 3 (ipykernel)",
   "language": "python",
   "name": "python3"
  },
  "language_info": {
   "codemirror_mode": {
    "name": "ipython",
    "version": 3
   },
   "file_extension": ".py",
   "mimetype": "text/x-python",
   "name": "python",
   "nbconvert_exporter": "python",
   "pygments_lexer": "ipython3",
   "version": "3.10.9"
  }
 },
 "nbformat": 4,
 "nbformat_minor": 5
}
